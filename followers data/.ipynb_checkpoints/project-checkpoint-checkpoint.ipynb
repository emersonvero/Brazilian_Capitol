{
 "cells": [
  {
   "cell_type": "code",
   "execution_count": 1,
   "id": "41709443",
   "metadata": {},
   "outputs": [
    {
     "name": "stdout",
     "output_type": "stream",
     "text": [
      "Collecting Scweet==1.8\n",
      "  Downloading Scweet-1.8-py3-none-any.whl (14 kB)\n",
      "Collecting chromedriver-autoinstaller\n",
      "  Downloading chromedriver_autoinstaller-0.4.0-py3-none-any.whl (6.5 kB)\n",
      "Requirement already satisfied: urllib3 in c:\\users\\roberta\\anaconda3\\lib\\site-packages (from Scweet==1.8) (1.26.4)\n",
      "Requirement already satisfied: python-dotenv in c:\\users\\roberta\\anaconda3\\lib\\site-packages (from Scweet==1.8) (0.21.0)\n",
      "Requirement already satisfied: selenium in c:\\users\\roberta\\anaconda3\\lib\\site-packages (from Scweet==1.8) (4.7.2)\n",
      "Requirement already satisfied: pandas in c:\\users\\roberta\\anaconda3\\lib\\site-packages (from Scweet==1.8) (1.2.4)\n",
      "Requirement already satisfied: python-dateutil>=2.7.3 in c:\\users\\roberta\\anaconda3\\lib\\site-packages (from pandas->Scweet==1.8) (2.8.1)\n",
      "Requirement already satisfied: pytz>=2017.3 in c:\\users\\roberta\\anaconda3\\lib\\site-packages (from pandas->Scweet==1.8) (2021.1)\n",
      "Requirement already satisfied: numpy>=1.16.5 in c:\\users\\roberta\\anaconda3\\lib\\site-packages (from pandas->Scweet==1.8) (1.20.1)\n",
      "Requirement already satisfied: six>=1.5 in c:\\users\\roberta\\anaconda3\\lib\\site-packages (from python-dateutil>=2.7.3->pandas->Scweet==1.8) (1.15.0)\n",
      "Requirement already satisfied: certifi>=2021.10.8 in c:\\users\\roberta\\anaconda3\\lib\\site-packages (from selenium->Scweet==1.8) (2022.12.7)\n",
      "Requirement already satisfied: trio~=0.17 in c:\\users\\roberta\\anaconda3\\lib\\site-packages (from selenium->Scweet==1.8) (0.22.0)\n",
      "Requirement already satisfied: trio-websocket~=0.9 in c:\\users\\roberta\\anaconda3\\lib\\site-packages (from selenium->Scweet==1.8) (0.9.2)\n",
      "Requirement already satisfied: async-generator>=1.9 in c:\\users\\roberta\\anaconda3\\lib\\site-packages (from trio~=0.17->selenium->Scweet==1.8) (1.10)\n",
      "Requirement already satisfied: sniffio in c:\\users\\roberta\\anaconda3\\lib\\site-packages (from trio~=0.17->selenium->Scweet==1.8) (1.2.0)\n",
      "Requirement already satisfied: exceptiongroup>=1.0.0rc9 in c:\\users\\roberta\\anaconda3\\lib\\site-packages (from trio~=0.17->selenium->Scweet==1.8) (1.1.0)\n",
      "Requirement already satisfied: outcome in c:\\users\\roberta\\anaconda3\\lib\\site-packages (from trio~=0.17->selenium->Scweet==1.8) (1.2.0)\n",
      "Requirement already satisfied: cffi>=1.14 in c:\\users\\roberta\\anaconda3\\lib\\site-packages (from trio~=0.17->selenium->Scweet==1.8) (1.14.5)\n",
      "Requirement already satisfied: idna in c:\\users\\roberta\\anaconda3\\lib\\site-packages (from trio~=0.17->selenium->Scweet==1.8) (2.10)\n",
      "Requirement already satisfied: attrs>=19.2.0 in c:\\users\\roberta\\anaconda3\\lib\\site-packages (from trio~=0.17->selenium->Scweet==1.8) (20.3.0)\n",
      "Requirement already satisfied: sortedcontainers in c:\\users\\roberta\\anaconda3\\lib\\site-packages (from trio~=0.17->selenium->Scweet==1.8) (2.3.0)\n",
      "Requirement already satisfied: pycparser in c:\\users\\roberta\\anaconda3\\lib\\site-packages (from cffi>=1.14->trio~=0.17->selenium->Scweet==1.8) (2.20)\n",
      "Requirement already satisfied: wsproto>=0.14 in c:\\users\\roberta\\anaconda3\\lib\\site-packages (from trio-websocket~=0.9->selenium->Scweet==1.8) (1.2.0)\n",
      "Requirement already satisfied: PySocks!=1.5.7,<2.0,>=1.5.6 in c:\\users\\roberta\\anaconda3\\lib\\site-packages (from urllib3->Scweet==1.8) (1.7.1)\n",
      "Requirement already satisfied: h11<1,>=0.9.0 in c:\\users\\roberta\\anaconda3\\lib\\site-packages (from wsproto>=0.14->trio-websocket~=0.9->selenium->Scweet==1.8) (0.14.0)\n",
      "Installing collected packages: chromedriver-autoinstaller, Scweet\n",
      "Successfully installed Scweet-1.8 chromedriver-autoinstaller-0.4.0\n"
     ]
    }
   ],
   "source": [
    "!pip install Scweet==1.8"
   ]
  },
  {
   "cell_type": "code",
   "execution_count": null,
   "id": "7403a8a1",
   "metadata": {},
   "outputs": [],
   "source": []
  }
 ],
 "metadata": {
  "kernelspec": {
   "display_name": "Python 3",
   "language": "python",
   "name": "python3"
  },
  "language_info": {
   "codemirror_mode": {
    "name": "ipython",
    "version": 3
   },
   "file_extension": ".py",
   "mimetype": "text/x-python",
   "name": "python",
   "nbconvert_exporter": "python",
   "pygments_lexer": "ipython3",
   "version": "3.8.8"
  }
 },
 "nbformat": 4,
 "nbformat_minor": 5
}
